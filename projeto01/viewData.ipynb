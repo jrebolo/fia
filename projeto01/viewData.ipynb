{
 "cells": [
  {
   "cell_type": "code",
   "execution_count": null,
   "id": "355bf3c7",
   "metadata": {},
   "outputs": [],
   "source": [
    "import numpy as np\n",
    "from matplotlib import pyplot as plt\n",
    "import pandas as pd"
   ]
  },
  {
   "cell_type": "code",
   "execution_count": null,
   "id": "7304143e",
   "metadata": {},
   "outputs": [],
   "source": [
    "labels = pd.read_csv(\"data/labels.csv\")"
   ]
  },
  {
   "cell_type": "code",
   "execution_count": null,
   "id": "21152a57",
   "metadata": {
    "scrolled": true
   },
   "outputs": [],
   "source": [
    "labels.head()"
   ]
  },
  {
   "cell_type": "code",
   "execution_count": null,
   "id": "60a711e3",
   "metadata": {},
   "outputs": [],
   "source": [
    "path_train = \"data/train/\"\n",
    "\n",
    "filenames = [path_train + fname + \".jpg\" for fname in labels['id']]"
   ]
  },
  {
   "cell_type": "code",
   "execution_count": null,
   "id": "e8612fb1",
   "metadata": {},
   "outputs": [],
   "source": [
    "labels_np = labels['breed'].to_numpy()"
   ]
  },
  {
   "cell_type": "code",
   "execution_count": null,
   "id": "d3c67846",
   "metadata": {},
   "outputs": [],
   "source": [
    "unique_breeds = np.unique(labels_np)"
   ]
  },
  {
   "cell_type": "code",
   "execution_count": null,
   "id": "a47fd647",
   "metadata": {},
   "outputs": [],
   "source": [
    "boolean_labels = [label == np.array(unique_breeds) for label in labels_np]"
   ]
  },
  {
   "cell_type": "code",
   "execution_count": null,
   "id": "1195b14b",
   "metadata": {},
   "outputs": [],
   "source": [
    "boolean_labels"
   ]
  },
  {
   "cell_type": "code",
   "execution_count": null,
   "id": "baacd547",
   "metadata": {},
   "outputs": [],
   "source": [
    "len(boolean_labels)"
   ]
  },
  {
   "cell_type": "code",
   "execution_count": null,
   "id": "879233e9",
   "metadata": {},
   "outputs": [],
   "source": [
    "# Resize images\n",
    "import cv2\n",
    "\n",
    "imgs = []\n",
    "for fname in filenames:\n",
    "    img = cv2.imread(fname)\n",
    "    imgs.append(cv2.resize(img, dsize=(150, 150), interpolation=cv2.INTER_CUBIC))\n",
    "    \n",
    "\n",
    "\n",
    "#X = [plt.imread(fname, format='jpeg') for fname in filenames]\n",
    "#y = boolean_labels"
   ]
  },
  {
   "cell_type": "code",
   "execution_count": null,
   "id": "e2c66be3",
   "metadata": {},
   "outputs": [],
   "source": [
    "imgs = np.array(imgs)\n",
    "plt.imshow(imgs[0])\n"
   ]
  },
  {
   "cell_type": "code",
   "execution_count": null,
   "id": "dd0b38d0",
   "metadata": {},
   "outputs": [],
   "source": [
    "plt.imshow(cv2.imread(filenames[0]))"
   ]
  },
  {
   "cell_type": "code",
   "execution_count": null,
   "id": "ca15a03d",
   "metadata": {},
   "outputs": [],
   "source": [
    "X = []\n",
    "X = imgs.reshape(imgs.shape[0],imgs.shape[1]*imgs.shape[2]*imgs.shape[3])\n",
    "#for idx, img in enumerate(imgs):\n",
    "#    X.append(img.reshape(img.shape[0]*img.shape[1]*img.shape[2],1))\n",
    "#X = np.array(X)"
   ]
  },
  {
   "cell_type": "code",
   "execution_count": null,
   "id": "77821a60",
   "metadata": {},
   "outputs": [],
   "source": [
    "X.shape"
   ]
  },
  {
   "cell_type": "code",
   "execution_count": null,
   "id": "a4cf8764",
   "metadata": {},
   "outputs": [],
   "source": [
    "y = boolean_labels "
   ]
  },
  {
   "cell_type": "code",
   "execution_count": null,
   "id": "2c2d45b3",
   "metadata": {},
   "outputs": [],
   "source": [
    "from sklearn.model_selection import train_test_split\n",
    "\n",
    "X_train, X_test, y_train, y_test = train_test_split(X, y)"
   ]
  },
  {
   "cell_type": "code",
   "execution_count": null,
   "id": "a950d35d",
   "metadata": {},
   "outputs": [],
   "source": [
    "from sklearn.ensemble import RandomForestClassifier"
   ]
  },
  {
   "cell_type": "code",
   "execution_count": null,
   "id": "95c312d2",
   "metadata": {},
   "outputs": [],
   "source": [
    "clf = RandomForestClassifier()"
   ]
  },
  {
   "cell_type": "code",
   "execution_count": null,
   "id": "f384a150",
   "metadata": {},
   "outputs": [],
   "source": [
    "#clf.fit(X_train, y_train)"
   ]
  },
  {
   "cell_type": "code",
   "execution_count": null,
   "id": "db74eeb6",
   "metadata": {},
   "outputs": [],
   "source": [
    "#pred = clf.predict_proba(X_train)"
   ]
  },
  {
   "cell_type": "code",
   "execution_count": null,
   "id": "444271cc",
   "metadata": {},
   "outputs": [],
   "source": [
    "#pd.DataFrame(pred[0])"
   ]
  },
  {
   "cell_type": "code",
   "execution_count": null,
   "id": "d364caa0",
   "metadata": {},
   "outputs": [],
   "source": []
  },
  {
   "cell_type": "code",
   "execution_count": null,
   "id": "993ca933",
   "metadata": {},
   "outputs": [],
   "source": [
    "cor = dict([(breed, idx) for idx, breed in enumerate(unique_breeds)])"
   ]
  },
  {
   "cell_type": "code",
   "execution_count": null,
   "id": "70639c45",
   "metadata": {},
   "outputs": [],
   "source": [
    "y2 = [cor[breed] for breed in labels['breed']]"
   ]
  },
  {
   "cell_type": "code",
   "execution_count": null,
   "id": "71949d25",
   "metadata": {},
   "outputs": [],
   "source": [
    "X_train2, X_test2, y_train2, y_test2 = train_test_split(X, y2)\n",
    "\n",
    "clf2 = RandomForestClassifier(max_depth=10, random_state=0)\n",
    "#clf2.fit(X_train2, y_train2)"
   ]
  },
  {
   "cell_type": "code",
   "execution_count": null,
   "id": "06975af4",
   "metadata": {},
   "outputs": [],
   "source": [
    "#pred2 = clf.predict_proba(X_test2)"
   ]
  },
  {
   "cell_type": "code",
   "execution_count": null,
   "id": "eb3ad36b",
   "metadata": {},
   "outputs": [],
   "source": [
    "pred2"
   ]
  },
  {
   "cell_type": "code",
   "execution_count": null,
   "id": "6c046189",
   "metadata": {},
   "outputs": [],
   "source": [
    "X_test2[0].shape"
   ]
  },
  {
   "cell_type": "code",
   "execution_count": null,
   "id": "6e83e76a",
   "metadata": {},
   "outputs": [],
   "source": []
  }
 ],
 "metadata": {
  "kernelspec": {
   "display_name": "Python 3 (ipykernel)",
   "language": "python",
   "name": "python3"
  },
  "language_info": {
   "codemirror_mode": {
    "name": "ipython",
    "version": 3
   },
   "file_extension": ".py",
   "mimetype": "text/x-python",
   "name": "python",
   "nbconvert_exporter": "python",
   "pygments_lexer": "ipython3",
   "version": "3.9.10"
  }
 },
 "nbformat": 4,
 "nbformat_minor": 5
}
