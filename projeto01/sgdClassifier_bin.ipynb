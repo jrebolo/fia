{
 "cells": [
  {
   "cell_type": "code",
   "execution_count": 1,
   "id": "a5967786",
   "metadata": {},
   "outputs": [],
   "source": [
    "import numpy as np\n",
    "from matplotlib import pyplot as plt\n",
    "import pandas as pd\n",
    "import cv2\n",
    "\n",
    "from sklearn.model_selection import train_test_split, cross_val_predict, cross_val_score\n",
    "from sklearn.linear_model import SGDClassifier\n",
    "from sklearn.metrics import confusion_matrix,precision_recall_curve,auc,roc_auc_score,roc_curve,recall_score,classification_report"
   ]
  },
  {
   "cell_type": "code",
   "execution_count": null,
   "id": "4405234d",
   "metadata": {},
   "outputs": [],
   "source": [
    "def accuracy(y_true, y_pred):\n",
    "    accuracy = np.sum(y_true == y_pred) / len(y_true)\n",
    "    return accuracy"
   ]
  },
  {
   "cell_type": "code",
   "execution_count": 2,
   "id": "53dcd0cd",
   "metadata": {},
   "outputs": [],
   "source": [
    "labels_or = pd.read_csv(\"data/labels.csv\")"
   ]
  },
  {
   "cell_type": "code",
   "execution_count": 4,
   "id": "eb5663fc",
   "metadata": {},
   "outputs": [
    {
     "name": "stdout",
     "output_type": "stream",
     "text": [
      "Roc Auc score: 0.6076754822032213\n",
      "Roc Auc score: 0.6880576527110501\n",
      "Roc Auc score: 0.6791764705882353\n",
      "Roc Auc score: 0.8134284016636957\n",
      "Roc Auc score: 0.7412959381044487\n",
      "Roc Auc score: 0.6056514128532133\n",
      "Roc Auc score: 0.5778175313059033\n",
      "Roc Auc score: 0.7650663942798773\n",
      "Roc Auc score: 0.588090295796575\n",
      "Roc Auc score: 0.6930496828752643\n"
     ]
    },
    {
     "data": {
      "image/png": "[encoded data removed]",
      "text/plain": [
       "<Figure size 432x288 with 10 Axes>"
      ]
     },
     "metadata": {
      "needs_background": "light"
     },
     "output_type": "display_data"
    }
   ],
   "source": [
    "# path\n",
    "path_train = \"data/train/\"\n",
    "# get top 10 breeds\n",
    "top_10 = labels_or['breed'].value_counts()[:10].index\n",
    "\n",
    "cor = dict([(breed, idx) for idx, breed in enumerate(top_10)])\n",
    "\n",
    "preds = []\n",
    "models = []\n",
    "y_tests = []\n",
    "scores = []\n",
    "\n",
    "\n",
    "\n",
    "for idx, val in enumerate(top_10):\n",
    "    # aux \n",
    "    aux = top_10[~np.isin(np.arange(top_10.size),idx)]\n",
    "    # divide choosen label and not choosen \n",
    "    top_10_lb = labels_or.loc[labels_or['breed'] == top_10[idx]]\n",
    "    top_10_lb_not = labels_or.loc[labels_or['breed'].isin(aux)]\n",
    "    \n",
    "    # number of data points\n",
    "    numb_breed = top_10_lb['breed'].size\n",
    "\n",
    "    # choose at random not 1 breed\n",
    "    rd_breed_ind = top_10_lb_not.sample(n=numb_breed)\n",
    "    # concatenate labels\n",
    "    labels = pd.concat([rd_breed_ind,top_10_lb])\n",
    "    labels = labels.sample(frac = 1)\n",
    "    \n",
    "    filenames = [path_train + fname + \".jpg\" for fname in labels['id']]\n",
    "\n",
    "    y = np.array([cor[breed] for breed in labels['breed']])\n",
    "    \n",
    "    lb_pred = cor[top_10[idx]]\n",
    "    \n",
    "    # Resize images\n",
    "\n",
    "\n",
    "    IMG_SIZE = 150\n",
    "\n",
    "    imgs = []\n",
    "    for fname in filenames:\n",
    "        img = cv2.imread(fname)\n",
    "        img = cv2.cvtColor(img, cv2.COLOR_BGR2RGB)\n",
    "        imgs.append(cv2.resize(img, dsize=(IMG_SIZE, IMG_SIZE), interpolation=cv2.INTER_CUBIC))\n",
    "\n",
    "    imgs = np.array(imgs)\n",
    "    \n",
    "    X = imgs.reshape(imgs.shape[0],imgs.shape[1]*imgs.shape[2]*imgs.shape[3])\n",
    "    \n",
    "    X_train, X_test, y_train, y_test = train_test_split(X, y,test_size=0.2)\n",
    "\n",
    "    y_train = (y_train==lb_pred)\n",
    "    y_test  = (y_test==lb_pred)\n",
    "    \n",
    "    y_train = np.array([1 if i == True else 0 for i in y_train])\n",
    "    y_test = np.array([1 if i == True else 0 for i in y_test])\n",
    "    \n",
    "    y_tests.append(y_test)\n",
    "    \n",
    "    sgd_clf = SGDClassifier(random_state=42)\n",
    "    \n",
    "    #model = sgd_clf.fit(X_train, y_train)\n",
    "    #models.append(model)\n",
    "\n",
    "    score = cross_val_predict(sgd_clf, X_train, y_train, cv=3, method=\"decision_function\")\n",
    "    scores.append(score)\n",
    "    \n",
    "    roc_score = roc_auc_score(y_train, score)\n",
    "    print(f\"Roc Auc score: {roc_score}\")\n",
    "    \n",
    "\n",
    "    print(\"accuracy: \", accuracy(y_train, score))\n",
    "    cnf_matrix = confusion_matrix(y_train, score)\n",
    "    print(\"Recall: \",cnf_matrix[1][1] / (cnf_matrix[1][1] + cnf_matrix[1][0]))\n",
    "    print(\"Precision: \",cnf_matrix[1][1] / (cnf_matrix[1][1] + cnf_matrix[0][1]))\n",
    "    #print()\n",
    "    \n",
    "    \n",
    "    fpr, tpr, t = roc_curve(y_train, score)\n",
    "    plt.subplot(5, 2, idx+1)\n",
    "    plt.plot(fpr,tpr,linewidth=2)\n",
    "    "
   ]
  },
  {
   "cell_type": "code",
   "execution_count": null,
   "id": "696a6b44",
   "metadata": {},
   "outputs": [],
   "source": []
  }
 ],
 "metadata": {
  "kernelspec": {
   "display_name": "Python 3 (ipykernel)",
   "language": "python",
   "name": "python3"
  },
  "language_info": {
   "codemirror_mode": {
    "name": "ipython",
    "version": 3
   },
   "file_extension": ".py",
   "mimetype": "text/x-python",
   "name": "python",
   "nbconvert_exporter": "python",
   "pygments_lexer": "ipython3",
   "version": "3.9.10"
  }
 },
 "nbformat": 4,
 "nbformat_minor": 5
}
