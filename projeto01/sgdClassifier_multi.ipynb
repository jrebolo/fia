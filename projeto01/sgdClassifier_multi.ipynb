{
 "cells": [
  {
   "cell_type": "code",
   "execution_count": 1,
   "id": "78e9afc5",
   "metadata": {},
   "outputs": [],
   "source": [
    "import numpy as np\n",
    "from matplotlib import pyplot as plt\n",
    "import pandas as pd\n",
    "import cv2\n",
    "\n",
    "from sklearn.model_selection import train_test_split, cross_val_predict, cross_val_score\n",
    "from sklearn.linear_model import SGDClassifier\n",
    "from sklearn.metrics import confusion_matrix,precision_recall_curve,auc,roc_auc_score,roc_curve,recall_score,classification_report"
   ]
  },
  {
   "cell_type": "markdown",
   "id": "09ee3ff8",
   "metadata": {},
   "source": [
    "# Load labels"
   ]
  },
  {
   "cell_type": "code",
   "execution_count": 2,
   "id": "d1cdb28a",
   "metadata": {},
   "outputs": [],
   "source": [
    "labels_or = pd.read_csv(\"data/labels.csv\")"
   ]
  },
  {
   "cell_type": "code",
   "execution_count": 3,
   "id": "023d03a9",
   "metadata": {},
   "outputs": [],
   "source": [
    "def accuracy(y_true, y_pred):\n",
    "    accuracy = np.sum(y_true == y_pred) / len(y_true)\n",
    "    return accuracy"
   ]
  },
  {
   "cell_type": "code",
   "execution_count": 4,
   "id": "9ec92cb9",
   "metadata": {},
   "outputs": [],
   "source": [
    "# path\n",
    "path_train = \"data/train/\"\n",
    "# get top 10 breeds\n",
    "top_10 = labels_or['breed'].value_counts()[:10].index\n",
    "\n",
    "cor = dict([(breed, idx) for idx, breed in enumerate(top_10)])"
   ]
  },
  {
   "cell_type": "markdown",
   "id": "a1ab2f3f",
   "metadata": {},
   "source": [
    "# Code model"
   ]
  },
  {
   "cell_type": "code",
   "execution_count": 5,
   "id": "693fca93",
   "metadata": {},
   "outputs": [],
   "source": [
    "Xs = []\n",
    "ys = []\n",
    "for idx, val in enumerate(top_10):\n",
    "    # aux \n",
    "    aux = top_10[~np.isin(np.arange(top_10.size),idx)]\n",
    "    # divide choosen label and not choosen \n",
    "    labels = labels_or.loc[labels_or['breed'] == top_10[idx]]\n",
    "      \n",
    "    filenames = [path_train + fname + \".jpg\" for fname in labels['id']]\n",
    "\n",
    "    y = np.array([cor[breed] for breed in labels['breed']])\n",
    "    \n",
    "    # Resize images\n",
    "\n",
    "    IMG_SIZE = 150\n",
    "\n",
    "    imgs = []\n",
    "    for fname in filenames:\n",
    "        img = cv2.imread(fname)\n",
    "        img = cv2.cvtColor(img, cv2.COLOR_BGR2RGB)\n",
    "        imgs.append(cv2.resize(img, dsize=(IMG_SIZE, IMG_SIZE), interpolation=cv2.INTER_CUBIC))\n",
    "\n",
    "    imgs = np.array(imgs)\n",
    "    \n",
    "    X = imgs.reshape(imgs.shape[0],imgs.shape[1]*imgs.shape[2]*imgs.shape[3])\n",
    "    X = X / 255\n",
    "    \n",
    "    Xs.append(X)\n",
    "    ys.append(y)"
   ]
  },
  {
   "cell_type": "code",
   "execution_count": 6,
   "id": "9de166e3",
   "metadata": {},
   "outputs": [],
   "source": [
    "y_ = []\n",
    "X_ = []\n",
    "for i in range(len(Xs)):\n",
    "    for j in range(len(Xs[i])):\n",
    "        X_.append(Xs[i][j])\n",
    "        y_.append(ys[i][j])\n",
    "X = np.array(X_)\n",
    "y = np.array(y_)"
   ]
  },
  {
   "cell_type": "code",
   "execution_count": 7,
   "id": "d4a3c859",
   "metadata": {},
   "outputs": [],
   "source": [
    "X_train, X_test, y_train, y_test = train_test_split(X, y,test_size=0.2)"
   ]
  },
  {
   "cell_type": "code",
   "execution_count": 8,
   "id": "2bbf800f",
   "metadata": {},
   "outputs": [],
   "source": [
    "sgd_clf = SGDClassifier(random_state=42)\n",
    "\n",
    "y_train_pred = cross_val_predict(sgd_clf, X_train, y_train, cv=3)"
   ]
  },
  {
   "cell_type": "code",
   "execution_count": 9,
   "id": "9157f008",
   "metadata": {},
   "outputs": [
    {
     "data": {
      "text/plain": [
       "array([[14, 13,  4, 12, 10, 18,  8,  4,  5, 10],\n",
       "       [ 2, 19,  1,  2,  4, 18, 12,  6,  2, 25],\n",
       "       [ 4,  5, 16,  8,  9, 13, 11, 10,  9,  6],\n",
       "       [10,  6,  3, 28, 14, 13,  7,  3,  5,  4],\n",
       "       [ 8,  8,  7, 14, 13, 20, 10,  6,  5,  4],\n",
       "       [ 3, 10,  4,  9,  6, 29,  8,  7,  3, 11],\n",
       "       [ 3, 14,  3,  6,  5, 15, 13,  6,  4, 18],\n",
       "       [ 2, 11,  3,  1,  1, 13,  7, 29, 13,  5],\n",
       "       [ 2,  9,  2,  4,  6, 18,  6, 16, 18, 13],\n",
       "       [ 4, 18,  2,  0,  1, 19, 11,  1,  4, 28]])"
      ]
     },
     "execution_count": 9,
     "metadata": {},
     "output_type": "execute_result"
    }
   ],
   "source": [
    "conf_mx = confusion_matrix(y_train, y_train_pred)\n",
    "conf_mx"
   ]
  },
  {
   "cell_type": "code",
   "execution_count": 10,
   "id": "493442ab",
   "metadata": {},
   "outputs": [
    {
     "data": {
      "text/plain": [
       "<matplotlib.image.AxesImage at 0x17581e250>"
      ]
     },
     "execution_count": 10,
     "metadata": {},
     "output_type": "execute_result"
    },
    {
     "data": {
      "image/png": "[encoded data removed]",
      "text/plain": [
       "<Figure size 288x288 with 1 Axes>"
      ]
     },
     "metadata": {
      "needs_background": "light"
     },
     "output_type": "display_data"
    }
   ],
   "source": [
    "plt.matshow(conf_mx,cmap=plt.cm.gray)"
   ]
  },
  {
   "cell_type": "code",
   "execution_count": 12,
   "id": "9c9d965d",
   "metadata": {},
   "outputs": [
    {
     "data": {
      "text/plain": [
       "array([[ 3,  2,  0,  4,  2,  4,  4,  1,  0,  8],\n",
       "       [ 2,  4,  0,  0,  0,  3,  1,  2,  3, 11],\n",
       "       [ 1,  0,  6,  2,  3,  2,  1,  4,  1,  5],\n",
       "       [ 1,  2,  4,  6,  2,  2,  0,  0,  0,  5],\n",
       "       [ 0,  1,  4,  3,  2,  3,  4,  0,  1,  1],\n",
       "       [ 1,  5,  1,  0,  0,  6,  0,  3,  2,  4],\n",
       "       [ 2,  2,  0,  0,  0,  3,  4,  1,  0, 12],\n",
       "       [ 1,  3,  1,  1,  1,  4,  2,  9,  0,  4],\n",
       "       [ 1,  1,  3,  1,  3,  1,  1,  3,  2,  0],\n",
       "       [ 0,  4,  0,  0,  0,  3,  5,  0,  0,  9]])"
      ]
     },
     "execution_count": 12,
     "metadata": {},
     "output_type": "execute_result"
    }
   ],
   "source": [
    "sgd_clf_f = SGDClassifier(random_state=42)\n",
    "\n",
    "sgd_clf_f.fit(X_train, y_train)\n",
    "\n",
    "y_test_pred = sgd_clf_f.predict(X_test)\n",
    "\n",
    "conf_mx_f = confusion_matrix(y_test, y_test_pred)\n",
    "conf_mx_f"
   ]
  },
  {
   "cell_type": "code",
   "execution_count": 13,
   "id": "0460f6fa",
   "metadata": {},
   "outputs": [
    {
     "data": {
      "text/plain": [
       "<matplotlib.image.AxesImage at 0x17e6d10a0>"
      ]
     },
     "execution_count": 13,
     "metadata": {},
     "output_type": "execute_result"
    },
    {
     "data": {
      "image/png": "[encoded data removed]",
      "text/plain": [
       "<Figure size 288x288 with 1 Axes>"
      ]
     },
     "metadata": {
      "needs_background": "light"
     },
     "output_type": "display_data"
    }
   ],
   "source": [
    "plt.matshow(conf_mx_f,cmap=plt.cm.gray)"
   ]
  },
  {
   "cell_type": "code",
   "execution_count": null,
   "id": "2732b285",
   "metadata": {},
   "outputs": [],
   "source": []
  }
 ],
 "metadata": {
  "kernelspec": {
   "display_name": "Python 3 (ipykernel)",
   "language": "python",
   "name": "python3"
  },
  "language_info": {
   "codemirror_mode": {
    "name": "ipython",
    "version": 3
   },
   "file_extension": ".py",
   "mimetype": "text/x-python",
   "name": "python",
   "nbconvert_exporter": "python",
   "pygments_lexer": "ipython3",
   "version": "3.9.10"
  }
 },
 "nbformat": 4,
 "nbformat_minor": 5
}
