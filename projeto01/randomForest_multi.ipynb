{
 "cells": [
  {
   "cell_type": "code",
   "execution_count": 1,
   "id": "465548c9",
   "metadata": {},
   "outputs": [],
   "source": [
    "import numpy as np\n",
    "from matplotlib import pyplot as plt\n",
    "import pandas as pd\n",
    "import cv2\n",
    "\n",
    "from sklearn.model_selection import train_test_split, cross_val_predict, cross_val_score\n",
    "from sklearn.linear_model import SGDClassifier\n",
    "from sklearn.ensemble import RandomForestClassifier\n",
    "from sklearn.metrics import confusion_matrix,precision_recall_curve,auc,roc_auc_score,roc_curve,recall_score,classification_report"
   ]
  },
  {
   "cell_type": "code",
   "execution_count": 2,
   "id": "8d604344",
   "metadata": {},
   "outputs": [],
   "source": [
    "labels_or = pd.read_csv(\"data/labels.csv\")"
   ]
  },
  {
   "cell_type": "code",
   "execution_count": 3,
   "id": "c9dfe0cc",
   "metadata": {},
   "outputs": [],
   "source": [
    "# path\n",
    "path_train = \"data/train/\"\n",
    "# get top 10 breeds\n",
    "top_10 = labels_or['breed'].value_counts()[:10].index\n",
    "\n",
    "cor = dict([(breed, idx) for idx, breed in enumerate(top_10)])"
   ]
  },
  {
   "cell_type": "code",
   "execution_count": 4,
   "id": "c8ccb6d3",
   "metadata": {},
   "outputs": [],
   "source": [
    "def process_data(top_10,path_train,cor,labels_or):\n",
    "    Xs = []\n",
    "    ys = []\n",
    "    for idx, val in enumerate(top_10):\n",
    "        # aux \n",
    "        aux = top_10[~np.isin(np.arange(top_10.size),idx)]\n",
    "        # divide choosen label and not choosen \n",
    "        labels = labels_or.loc[labels_or['breed'] == top_10[idx]]\n",
    "\n",
    "        filenames = [path_train + fname + \".jpg\" for fname in labels['id']]\n",
    "\n",
    "        y = np.array([cor[breed] for breed in labels['breed']])\n",
    "\n",
    "        # Resize images\n",
    "\n",
    "        IMG_SIZE = 150\n",
    "\n",
    "        imgs = []\n",
    "        for fname in filenames:\n",
    "            img = cv2.imread(fname)\n",
    "            img = cv2.cvtColor(img, cv2.COLOR_BGR2RGB)\n",
    "            imgs.append(cv2.resize(img, dsize=(IMG_SIZE, IMG_SIZE), interpolation=cv2.INTER_CUBIC))\n",
    "\n",
    "        imgs = np.array(imgs)\n",
    "\n",
    "        X = imgs.reshape(imgs.shape[0],imgs.shape[1]*imgs.shape[2]*imgs.shape[3])\n",
    "        X = X / 255\n",
    "        \n",
    "        Xs.append(X)\n",
    "        ys.append(y)\n",
    "    y_ = []\n",
    "    X_ = []\n",
    "    for i in range(len(Xs)):\n",
    "        for j in range(len(Xs[i])):\n",
    "            X_.append(Xs[i][j])\n",
    "            y_.append(ys[i][j])\n",
    "    X = np.array(X_)\n",
    "    y = np.array(y_)\n",
    "    \n",
    "    return X, y"
   ]
  },
  {
   "cell_type": "code",
   "execution_count": 5,
   "id": "960fc377",
   "metadata": {},
   "outputs": [],
   "source": [
    "X, y = process_data(top_10,path_train,cor,labels_or)"
   ]
  },
  {
   "cell_type": "code",
   "execution_count": 13,
   "id": "a0382418",
   "metadata": {},
   "outputs": [
    {
     "data": {
      "text/plain": [
       "(1141, 67500)"
      ]
     },
     "execution_count": 13,
     "metadata": {},
     "output_type": "execute_result"
    }
   ],
   "source": [
    "X.shape"
   ]
  },
  {
   "cell_type": "code",
   "execution_count": 6,
   "id": "b64ba6fa",
   "metadata": {},
   "outputs": [],
   "source": [
    "X_train, X_test, y_train, y_test = train_test_split(X, y,test_size=0.2)"
   ]
  },
  {
   "cell_type": "code",
   "execution_count": 7,
   "id": "ad598e02",
   "metadata": {},
   "outputs": [],
   "source": [
    "rfc = RandomForestClassifier(random_state=0)\n",
    "y_train_pred = cross_val_predict(rfc, X_train, y_train, cv=3)"
   ]
  },
  {
   "cell_type": "code",
   "execution_count": 8,
   "id": "993daf3a",
   "metadata": {},
   "outputs": [
    {
     "data": {
      "text/plain": [
       "array([[29, 11, 10, 10, 10,  2, 10,  4,  3,  8],\n",
       "       [10, 34,  0,  6,  1,  5, 18, 11,  2, 11],\n",
       "       [19,  9, 15, 14,  9,  5,  7,  4,  4,  6],\n",
       "       [14,  3,  8, 28, 36,  2,  3,  0,  1,  3],\n",
       "       [ 7,  1,  7, 33, 32,  3,  0,  4,  0,  2],\n",
       "       [ 8, 15,  6,  7,  8, 10, 11, 11,  5,  5],\n",
       "       [ 5, 24,  1,  5,  5,  6, 17, 10,  3, 16],\n",
       "       [ 9,  6,  5,  3,  4,  4,  7, 34, 10,  7],\n",
       "       [12,  9,  8,  9,  8,  7,  3, 14,  9,  6],\n",
       "       [ 8, 17,  3,  2,  3,  3, 23,  5,  3, 19]])"
      ]
     },
     "execution_count": 8,
     "metadata": {},
     "output_type": "execute_result"
    }
   ],
   "source": [
    "conf_mx = confusion_matrix(y_train, y_train_pred)\n",
    "conf_mx"
   ]
  },
  {
   "cell_type": "code",
   "execution_count": 9,
   "id": "816e990a",
   "metadata": {},
   "outputs": [
    {
     "data": {
      "text/plain": [
       "<matplotlib.image.AxesImage at 0x1577fc490>"
      ]
     },
     "execution_count": 9,
     "metadata": {},
     "output_type": "execute_result"
    },
    {
     "data": {
      "image/png": "[encoded data removed]",
      "text/plain": [
       "<Figure size 288x288 with 1 Axes>"
      ]
     },
     "metadata": {
      "needs_background": "light"
     },
     "output_type": "display_data"
    }
   ],
   "source": [
    "plt.matshow(conf_mx,cmap=plt.cm.gray)"
   ]
  },
  {
   "cell_type": "code",
   "execution_count": 11,
   "id": "7759e0a9",
   "metadata": {},
   "outputs": [
    {
     "data": {
      "text/plain": [
       "array([[14,  2,  1,  5,  1,  1,  0,  4,  0,  1],\n",
       "       [ 1, 10,  1,  0,  0,  0,  4,  2,  0,  1],\n",
       "       [ 6,  1,  6,  2,  2,  0,  2,  3,  1,  1],\n",
       "       [ 3,  0,  2,  5,  5,  0,  0,  0,  2,  0],\n",
       "       [ 1,  1,  3,  9,  9,  0,  2,  0,  0,  0],\n",
       "       [ 2,  4,  3,  3,  1,  3,  3,  5,  0,  2],\n",
       "       [ 1,  4,  0,  0,  2,  1,  3,  4,  0,  4],\n",
       "       [ 1,  5,  2,  0,  2,  0,  1,  8,  1,  2],\n",
       "       [ 4,  4,  1,  2,  1,  0,  2,  4,  6,  1],\n",
       "       [ 1, 10,  0,  1,  0,  1,  2,  1,  1,  6]])"
      ]
     },
     "execution_count": 11,
     "metadata": {},
     "output_type": "execute_result"
    }
   ],
   "source": [
    "rfc_f = RandomForestClassifier(random_state=0)\n",
    "rfc_f.fit(X_train, y_train)\n",
    "\n",
    "y_test_pred = rfc_f.predict(X_test)\n",
    "\n",
    "conf_mx_f = confusion_matrix(y_test, y_test_pred)\n",
    "conf_mx_f"
   ]
  },
  {
   "cell_type": "code",
   "execution_count": 12,
   "id": "8d829e06",
   "metadata": {},
   "outputs": [
    {
     "data": {
      "text/plain": [
       "<matplotlib.image.AxesImage at 0x156f8dbe0>"
      ]
     },
     "execution_count": 12,
     "metadata": {},
     "output_type": "execute_result"
    },
    {
     "data": {
      "image/png": "[encoded data removed]",
      "text/plain": [
       "<Figure size 288x288 with 1 Axes>"
      ]
     },
     "metadata": {
      "needs_background": "light"
     },
     "output_type": "display_data"
    }
   ],
   "source": [
    "plt.matshow(conf_mx_f,cmap=plt.cm.gray)"
   ]
  },
  {
   "cell_type": "code",
   "execution_count": null,
   "id": "9e84b8a3",
   "metadata": {},
   "outputs": [],
   "source": []
  }
 ],
 "metadata": {
  "kernelspec": {
   "display_name": "Python 3 (ipykernel)",
   "language": "python",
   "name": "python3"
  },
  "language_info": {
   "codemirror_mode": {
    "name": "ipython",
    "version": 3
   },
   "file_extension": ".py",
   "mimetype": "text/x-python",
   "name": "python",
   "nbconvert_exporter": "python",
   "pygments_lexer": "ipython3",
   "version": "3.9.10"
  }
 },
 "nbformat": 4,
 "nbformat_minor": 5
}
